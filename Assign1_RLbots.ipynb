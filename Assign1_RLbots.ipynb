{
  "nbformat": 4,
  "nbformat_minor": 0,
  "metadata": {
    "colab": {
      "name": "Assign1_RLbots.ipynb",
      "provenance": [],
      "collapsed_sections": [],
      "include_colab_link": true
    },
    "kernelspec": {
      "name": "python3",
      "display_name": "Python 3"
    },
    "language_info": {
      "name": "python"
    }
  },
  "cells": [
    {
      "cell_type": "markdown",
      "metadata": {
        "id": "view-in-github",
        "colab_type": "text"
      },
      "source": [
        "<a href=\"https://colab.research.google.com/github/lakshay307/RL-for-Player-Bots-/blob/main/Assign1_RLbots.ipynb\" target=\"_parent\"><img src=\"https://colab.research.google.com/assets/colab-badge.svg\" alt=\"Open In Colab\"/></a>"
      ]
    },
    {
      "cell_type": "markdown",
      "source": [
        "Numpy is the main package for scientific computing in Python. It is maintained by a large community (www.numpy.org). In this exercise you will learn several key numpy functions such as np.exp, np.log, and np.reshape. You will need to know how to use these functions for future assignments.\n"
      ],
      "metadata": {
        "id": "CdQTFao23YCr"
      }
    },
    {
      "cell_type": "markdown",
      "source": [
        "**CREATE A NUMPY ARRAY FROM A LIST**"
      ],
      "metadata": {
        "id": "eJV3ud_o54b_"
      }
    },
    {
      "cell_type": "code",
      "source": [
        "import numpy as np \n",
        "#create a numpy array of numbers {0,1,2,3,4,5,6} and print the array\n",
        "\n",
        "x=np.array([0,1,2,3,4,5,6])\n",
        "for i in x:\n",
        "  print(i)\n",
        "\n",
        "#YOUR CODE ENDS HERE\n",
        "\n"
      ],
      "metadata": {
        "id": "biOFDZFr6GeI",
        "colab": {
          "base_uri": "https://localhost:8080/"
        },
        "outputId": "0dd3d869-1d65-4d19-8801-bb284eea797c"
      },
      "execution_count": null,
      "outputs": [
        {
          "output_type": "stream",
          "name": "stdout",
          "text": [
            "0\n",
            "1\n",
            "2\n",
            "3\n",
            "4\n",
            "5\n",
            "6\n"
          ]
        }
      ]
    },
    {
      "cell_type": "markdown",
      "source": [
        "**PRINT ALTERNATE ELEMENTS OF A NUMPY ARRAY**"
      ],
      "metadata": {
        "id": "1IRyMbnh6dWD"
      }
    },
    {
      "cell_type": "code",
      "source": [
        "import numpy as np\n",
        "\n",
        "#create a numpy array of number {7,8,5,10,1,2,3,4} and print alternate elements of this array using for loop.\n",
        "\n",
        "#YOUR CODE STARTS HERE\n",
        "x=np.array([7,8,5,10,1,2,3,4])\n",
        "for i in range(len(x)):\n",
        "  if(i%2==0):\n",
        "    print(x[i])\n",
        "\n",
        "  \n",
        "#YOUR CODE ENDS HERE"
      ],
      "metadata": {
        "id": "FXTnLR4o6sKr",
        "outputId": "d15a732d-44b0-44c9-a9ea-21de30cdb2d2",
        "colab": {
          "base_uri": "https://localhost:8080/"
        }
      },
      "execution_count": null,
      "outputs": [
        {
          "output_type": "stream",
          "name": "stdout",
          "text": [
            "7\n",
            "5\n",
            "1\n",
            "3\n"
          ]
        }
      ]
    },
    {
      "cell_type": "markdown",
      "source": [
        "**ALTERNATE ELEMENTS USING SLICING**"
      ],
      "metadata": {
        "id": "4ocBycO47Am6"
      }
    },
    {
      "cell_type": "code",
      "source": [
        "import numpy as np \n",
        "#create a numpy array of number {7,8,5,10,1,2,3,4} and print alternate elements of this array using slicing.Google for more information.\n",
        "\n",
        "#YOUR CODE STARTS HERE\n",
        "x=np.array([7,8,5,10,1,2,3,4])\n",
        "y=x[ : :2]\n",
        "for i in y:\n",
        "  print(i)\n",
        "\n",
        "#YOUR CODE ENDS HERE\n"
      ],
      "metadata": {
        "id": "QzCGW4587KiC",
        "outputId": "72921463-baad-49da-a604-acddc1a259a2",
        "colab": {
          "base_uri": "https://localhost:8080/"
        }
      },
      "execution_count": null,
      "outputs": [
        {
          "output_type": "stream",
          "name": "stdout",
          "text": [
            "7\n",
            "5\n",
            "1\n",
            "3\n"
          ]
        }
      ]
    },
    {
      "cell_type": "markdown",
      "source": [
        "**NUMPY COPY VS NUMPY VIEW**"
      ],
      "metadata": {
        "id": "-Pq0Oc0I7W6c"
      }
    },
    {
      "cell_type": "code",
      "source": [
        "import numpy as np \n",
        "# create a numpy array of numbers {10,9,11,2,3,4,5} . Create a copy of this array using numpy copy. Then multiply the copy array by 2 . print both the arrays\n",
        "\n",
        "#YOUR CODE STARTS HERE\n",
        "x=np.array([10,9,11,2,3,4,5])\n",
        "y=x.copy()\n",
        "for i in range(len(y)):\n",
        "  y[i]=2*y[i]\n",
        "print(x)\n",
        "print(y)\n",
        "#YOUR CODE ENDS HERE\n",
        "\n",
        "\n",
        "# create a numpy array of numbers {10,9,11,2,3,4,5} . Create a view of this array using numpy view. Then multiply the view array by 2 . print both the arrays\n",
        "\n",
        "#YOUR CODE STARTS HERE\n",
        "x=np.array([10,9,11,2,3,4,5])\n",
        "y=x.view()\n",
        "for i in range(len(y)):\n",
        "  y[i]=2*y[i]\n",
        "print(x)\n",
        "print(y)\n",
        "#YOUR CODE ENDS HERE\n"
      ],
      "metadata": {
        "id": "ZnRZqCaj7j9S",
        "outputId": "08fb2da0-87f8-40f8-a632-e1c3b41cd86e",
        "colab": {
          "base_uri": "https://localhost:8080/"
        }
      },
      "execution_count": null,
      "outputs": [
        {
          "output_type": "stream",
          "name": "stdout",
          "text": [
            "[10  9 11  2  3  4  5]\n",
            "[20 18 22  4  6  8 10]\n",
            "[20 18 22  4  6  8 10]\n",
            "[20 18 22  4  6  8 10]\n"
          ]
        }
      ]
    },
    {
      "cell_type": "markdown",
      "source": [
        "**SHAPE AND RESHAPE**"
      ],
      "metadata": {
        "id": "mFLi6ukN8El3"
      }
    },
    {
      "cell_type": "code",
      "source": [
        "import numpy as np \n",
        "#create a numpy array of numbers {1,2,3,4,5,6,7,8}. Print the shape of this array.Convert this array to a new array of size 4*2 . Print the shape of new array\n",
        "arr=np.array([1,2,3,4,5,6,7,8])\n",
        "print(arr.shape)\n",
        "arr=arr.reshape(4,2)\n",
        "print(arr.shape)"
      ],
      "metadata": {
        "id": "IgsGfpZz8YVX",
        "outputId": "d65c8cc3-e349-4a53-f6c8-1d0719edcd2d",
        "colab": {
          "base_uri": "https://localhost:8080/"
        }
      },
      "execution_count": 1,
      "outputs": [
        {
          "output_type": "stream",
          "name": "stdout",
          "text": [
            "(8,)\n",
            "(4, 2)\n"
          ]
        }
      ]
    },
    {
      "cell_type": "markdown",
      "source": [
        "**SIGMOID FUNCTION USING NUMPY ARRAY**"
      ],
      "metadata": {
        "id": "fiLrd-Wi9AMS"
      }
    },
    {
      "cell_type": "markdown",
      "source": [
        "Before using np.exp(), you will use math.exp() to implement the sigmoid \n",
        "\n",
        "function. You will then see why np.exp() is preferable to math.exp().\n",
        "\n"
      ],
      "metadata": {
        "id": "_Ey5IYa-3ez1"
      }
    },
    {
      "cell_type": "markdown",
      "source": [
        "Build a function that returns the sigmoid of a real number x. Use math.exp(x) for the exponential function.\n",
        "Search for sigmoid function on internet"
      ],
      "metadata": {
        "id": "AcvIQjCl3gjV"
      }
    },
    {
      "cell_type": "markdown",
      "source": [
        "To refer to a function belonging to a specific package you could call it using package_name.function(). Run the code below to see an example with math.exp()."
      ],
      "metadata": {
        "id": "T46ti1R43tHu"
      }
    },
    {
      "cell_type": "code",
      "source": [
        "import math\n",
        "\n",
        "# GRADED FUNCTION: basic_sigmoid\n",
        "\n",
        "def basic_sigmoid(x):\n",
        "    \"\"\"\n",
        "    Compute sigmoid of x.\n",
        "\n",
        "    Arguments:\n",
        "    x -- A scalar\n",
        "\n",
        "    Return:\n",
        "    s -- sigmoid(x)\n",
        "    \"\"\"\n",
        "    # (≈ 1 line of code)\n",
        "    # s = \n",
        "    # YOUR CODE STARTS HERE\n",
        "    s=1/(1+math.exp(-x))\n",
        "    \n",
        "    # YOUR CODE ENDS HERE\n",
        "    \n",
        "    return s"
      ],
      "metadata": {
        "id": "1eD6tS8x39Nn"
      },
      "execution_count": null,
      "outputs": []
    },
    {
      "cell_type": "markdown",
      "source": [
        "Actually, we rarely use the \"math\" library in deep learning because the inputs of the functions are real numbers. In deep learning we mostly use matrices and vectors. This is why numpy is more useful."
      ],
      "metadata": {
        "id": "aJ2NtCF14Lqp"
      }
    },
    {
      "cell_type": "code",
      "source": [
        "### One reason why we use \"numpy\" instead of \"math\" in Deep Learning ###\n",
        "\n",
        "x = [1, 2, 3] # x becomes a python list object\n",
        "basic_sigmoid(x) # you will see this give an error when you run it, because x is a vector."
      ],
      "metadata": {
        "id": "DVNF1lR44MZz"
      },
      "execution_count": null,
      "outputs": []
    },
    {
      "cell_type": "markdown",
      "source": [
        "In fact, if  𝑥=(𝑥1,𝑥2,...,𝑥𝑛)  is a row vector then np.exp(x) will apply the exponential function to every element of x. The output will thus be: np.exp(x) = (e^{x_1}, e^{x_2}, ..., e^{x_n})"
      ],
      "metadata": {
        "id": "1cIxHz5B4SIl"
      }
    },
    {
      "cell_type": "code",
      "source": [
        "import numpy as np\n",
        "\n",
        "# example of np.exp\n",
        "t_x = np.array([1, 2, 3])\n",
        "print(np.exp(t_x)) # result is (exp(1), exp(2), exp(3))"
      ],
      "metadata": {
        "id": "CUslCcu64eU9"
      },
      "execution_count": null,
      "outputs": []
    },
    {
      "cell_type": "markdown",
      "source": [
        "**SIGMOID FUNCTION**"
      ],
      "metadata": {
        "id": "08a4mF4x4kDQ"
      }
    },
    {
      "cell_type": "markdown",
      "source": [
        "Implement the sigmoid function using numpy.\n",
        "\n",
        "Instructions: x could now be either a real number, a vector, or a matrix. The data structures we use in numpy to represent these shapes (vectors, matrices...) are called numpy arrays. You don't need to know more for now"
      ],
      "metadata": {
        "id": "lrjahPsh46Ht"
      }
    },
    {
      "cell_type": "code",
      "source": [
        "# GRADED FUNCTION: sigmoid\n",
        "\n",
        "def sigmoid(x):\n",
        "    \"\"\"\n",
        "    Compute the sigmoid of x\n",
        "\n",
        "    Arguments:\n",
        "    x -- A scalar or numpy array of any size\n",
        "\n",
        "    Return:\n",
        "    s -- sigmoid(x)\n",
        "    \"\"\"\n",
        "    \n",
        "    # (≈ 1 line of code)\n",
        "    # s = \n",
        "    # YOUR CODE STARTS HERE\n",
        "    s=1/(1+np.exp(-x))\n",
        "    # YOUR CODE ENDS HERE\n",
        "    \n",
        "    return s"
      ],
      "metadata": {
        "id": "BGH86oUh466R"
      },
      "execution_count": null,
      "outputs": []
    },
    {
      "cell_type": "markdown",
      "source": [
        "**TRANSPOSE OF A MATRIX USING FOR LOOP**"
      ],
      "metadata": {
        "id": "tgbE_iixpHN5"
      }
    },
    {
      "cell_type": "markdown",
      "source": [
        "Input : A 3 X 3 sample matrix of your choice\n",
        "\n",
        "Output : Transpose of that matrix\n",
        "\n",
        "Note : Use For loop and numpy library"
      ],
      "metadata": {
        "id": "qfM1VRUSpSey"
      }
    },
    {
      "cell_type": "code",
      "source": [
        "import numpy as np\n",
        "#specify sample input here using numpy library\n",
        "arr=np.array([[1,2,3],[4,5,6],[7,8,9]])\n",
        "#insert code here\n",
        "for i in range(3):\n",
        "  for j in range(i+1,3):\n",
        "    arr[i][j],arr[j][i]=arr[j][i],arr[i][j]\n",
        "print(arr)"
      ],
      "metadata": {
        "id": "CMNQRYI6qA6c",
        "outputId": "822af619-cb76-4921-eb95-f35f26466f92",
        "colab": {
          "base_uri": "https://localhost:8080/"
        }
      },
      "execution_count": null,
      "outputs": [
        {
          "output_type": "stream",
          "name": "stdout",
          "text": [
            "[[1 4 7]\n",
            " [2 5 8]\n",
            " [3 6 9]]\n"
          ]
        }
      ]
    },
    {
      "cell_type": "markdown",
      "source": [
        "**PANDAS**"
      ],
      "metadata": {
        "id": "uAzP2IlcqNgO"
      }
    },
    {
      "cell_type": "markdown",
      "source": [
        "Pandas framework is used to edit and access dataframes making them more accessible while using in machine learning and similiar fields of study. \n",
        "Here are three questions based upon the same to help you develop a basic idea."
      ],
      "metadata": {
        "id": "FjJL9l_VqN22"
      }
    },
    {
      "cell_type": "markdown",
      "source": [
        "**WORKING WITH STRINGS**"
      ],
      "metadata": {
        "id": "fwWJPFwhqOII"
      }
    },
    {
      "cell_type": "markdown",
      "source": [
        "Write a pandas program to perform some operations on a series of strings as follows:\n",
        "\n",
        "1. remove vowels from all strings\n",
        "2. convert the strings to lowercase\n",
        "3. convert the first and third(if it exists) character to upper case\n",
        "4. sort the series\n",
        "Note : The series of string will be in a csv file.\n",
        "You need to code with a sample input from your end and specify it"
      ],
      "metadata": {
        "id": "vWpAZ76wq1aA"
      }
    },
    {
      "cell_type": "code",
      "source": [
        "import pandas as pd\n",
        "import numpy as np\n",
        "\n",
        "def vowel(string):\n",
        "    vowels = ['a','e','i','o','u','A','E','I','O','U']\n",
        "    result = [letter for letter in string if letter.lower() not in vowels]\n",
        "    result = ''.join(result)\n",
        "    print(result)\n",
        "\n",
        "def word_both_cap(str):\n",
        "    return ' '.join(map(lambda s: s[:1].upper()+s[1:2]+s[2].upper()+s[3:],s.title().split()))\n",
        "\n",
        "df=pd.DataFrame(['HEllO', 'DEVyansHU', 'LAKSHAY', 'xYzu'],columns=['x']) \n",
        "                \n",
        "df=df['x'].str.lower()\n",
        "print(df)\n",
        "for s in df:\n",
        "    vowel(s)\n",
        "\n",
        "for s in df:\n",
        "    print(word_both_cap(str))"
      ],
      "metadata": {
        "id": "TAYP4pyIrRvj",
        "colab": {
          "base_uri": "https://localhost:8080/"
        },
        "outputId": "81b07cb6-02e4-474e-d991-211dc7ae2413"
      },
      "execution_count": null,
      "outputs": [
        {
          "output_type": "stream",
          "name": "stdout",
          "text": [
            "0        hello\n",
            "1    devyanshu\n",
            "2      lakshay\n",
            "3         xyzu\n",
            "Name: x, dtype: object\n",
            "hll\n",
            "dvynsh\n",
            "lkshy\n",
            "xyz\n",
            "HeLlo\n",
            "DeVyanshu\n",
            "LaKshay\n",
            "XyZu\n"
          ]
        }
      ]
    },
    {
      "cell_type": "code",
      "source": [
        ""
      ],
      "metadata": {
        "id": "EuLQxOkbXI2F"
      },
      "execution_count": null,
      "outputs": []
    },
    {
      "cell_type": "markdown",
      "source": [
        "**DICTIONARY PROBLEM**"
      ],
      "metadata": {
        "id": "yldyWDD9rUpC"
      }
    },
    {
      "cell_type": "markdown",
      "source": [
        "Write a Pandas program to create and display a DataFrame from a specified dictionary data which has the index labels. \n",
        "\n",
        "Here is a example for your reference:\n",
        "\n",
        "\n",
        "Sample Python dictionary data and list labels:\n",
        "exam_data = {'name': ['Anastasia', 'Dima', 'Katherine', 'James', 'Emily', 'Michael', 'Matthew', 'Laura', 'Kevin', 'Jonas'],\n",
        "'score': [12.5, 9, 16.5, np.nan, 9, 20, 14.5, np.nan, 8, 19],\n",
        "'attempts': [1, 3, 2, 3, 2, 3, 1, 1, 2, 1],\n",
        "'qualify': ['yes', 'no', 'yes', 'no', 'no', 'yes', 'yes', 'no', 'no', 'yes']}\n",
        "labels = ['a', 'b', 'c', 'd', 'e', 'f', 'g', 'h', 'i', 'j']\n",
        "\n",
        "\n",
        "Expected Output:\n",
        "\n",
        "\n",
        "attempts name qualify score\n",
        "\n",
        "\n",
        "a 1 Anastasia yes 12.5\n",
        "\n",
        "\n",
        "b 3 Dima no 9.0\n",
        "\n",
        "\n",
        "i 2 Kevin no 8.0\n",
        "\n",
        "\n",
        "j 1 Jonas yes 19.\n",
        "\n",
        "Note : The data will again we saved in a input file that needs to be specified by you. The data will be present in format mentioned. "
      ],
      "metadata": {
        "id": "SOMKlIQkrnla"
      }
    },
    {
      "cell_type": "markdown",
      "source": [
        "**FOLLOW UP FOR Q2 on Pandas**"
      ],
      "metadata": {
        "id": "RpQ-FVssr4dv"
      }
    },
    {
      "cell_type": "markdown",
      "source": [
        ""
      ],
      "metadata": {
        "id": "DkLnPHeKWsn9"
      }
    },
    {
      "cell_type": "markdown",
      "source": [
        "Write a pandas program to select the rows with number of attempts > 2 for the same input dataframe"
      ],
      "metadata": {
        "id": "jw_SojBVsYQH"
      }
    },
    {
      "cell_type": "code",
      "source": [
        "import pandas as pd\n",
        "examdata={\"name\":['Anastasia', 'Dima', 'Katherine', 'James', 'Emily', 'Michael', 'Matthew', 'Laura', 'Kevin', 'Jonas'],\n",
        "          \"score\":[12.5, 9, 16.5,21, 9, 20, 14.5,16, 8, 19],\n",
        "          \"attempts\": [1, 3, 2, 3, 2, 3, 1, 1, 2, 1],\n",
        "          \"qualify\": ['yes', 'no', 'yes', 'no', 'no', 'yes', 'yes', 'no', 'no', 'yes']}\n",
        "df=pd.DataFrame(examdata)\n",
        "df.loc[(df['attempts']>2)]"
      ],
      "metadata": {
        "id": "PG4DA2YcskMa"
      },
      "execution_count": null,
      "outputs": []
    }
  ]
}